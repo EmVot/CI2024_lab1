{
 "cells": [
  {
   "cell_type": "code",
   "execution_count": 5,
   "metadata": {},
   "outputs": [],
   "source": [
    "from random import random, seed\n",
    "from itertools import product, combinations\n",
    "import numpy as np\n",
    "\n",
    "from icecream import ic"
   ]
  },
  {
   "cell_type": "markdown",
   "metadata": {},
   "source": [
    "\n",
    "Reproducible Initialization\n",
    "\n",
    "If you want to get reproducible results, use rng (and restart the kernel); for non-reproducible ones, use np.random.\n"
   ]
  },
  {
   "cell_type": "code",
   "execution_count": 8,
   "metadata": {},
   "outputs": [],
   "source": [
    "UNIVERSE_SIZE = 100\n",
    "NUM_SETS = 10\n",
    "DENSITY = 0.2\n",
    "\n",
    "rng = np.random.Generator(np.random.PCG64([UNIVERSE_SIZE, NUM_SETS, int(10_000 * DENSITY)]))"
   ]
  },
  {
   "cell_type": "code",
   "execution_count": 9,
   "metadata": {},
   "outputs": [],
   "source": [
    "# DON'T EDIT THESE LINES!\n",
    "\n",
    "SETS = np.random.random((NUM_SETS, UNIVERSE_SIZE)) < DENSITY\n",
    "for s in range(UNIVERSE_SIZE):\n",
    "    if not np.any(SETS[:, s]):\n",
    "        SETS[np.random.randint(NUM_SETS), s] = True\n",
    "COSTS = np.pow(SETS.sum(axis=1), 1.1)"
   ]
  },
  {
   "cell_type": "markdown",
   "metadata": {},
   "source": [
    "Helper Functions"
   ]
  },
  {
   "cell_type": "code",
   "execution_count": 50,
   "metadata": {},
   "outputs": [],
   "source": [
    "def valid(solution):\n",
    "    \"\"\"Checks wether solution is valid (ie. covers all universe)\"\"\"\n",
    "    return np.all(np.logical_or.reduce(SETS[solution]))\n",
    "\n",
    "\n",
    "def cost(solution):\n",
    "    \"\"\"Returns the cost of a solution (to be minimized)\"\"\"\n",
    "    if not solution.any():\n",
    "        return np.float64('inf')\n",
    "    return COSTS[solution].sum()\n",
    "\n",
    "def covered_elements(solution):\n",
    "    \"\"\"Returns the number of elements covered by the cover-set\"\"\"\n",
    "    return np.logical_or.reduce(SETS[solution]).sum()"
   ]
  },
  {
   "cell_type": "markdown",
   "metadata": {},
   "source": [
    "Have Fun!"
   ]
  },
  {
   "cell_type": "code",
   "execution_count": 52,
   "metadata": {},
   "outputs": [
    {
     "data": {
      "text/plain": [
       "(np.True_, np.float64(281.89482735238767))"
      ]
     },
     "execution_count": 52,
     "metadata": {},
     "output_type": "execute_result"
    }
   ],
   "source": [
    "# A dumb solution of \"all\" sets\n",
    "solution = np.full(NUM_SETS, True)\n",
    "valid(solution), cost(solution)"
   ]
  },
  {
   "cell_type": "code",
   "execution_count": 51,
   "metadata": {},
   "outputs": [
    {
     "data": {
      "text/plain": [
       "(np.False_, np.float64(139.45599412083828))"
      ]
     },
     "execution_count": 51,
     "metadata": {},
     "output_type": "execute_result"
    }
   ],
   "source": [
    "# A random solution with random 50% of the sets\n",
    "solution = rng.random(NUM_SETS) < .5\n",
    "valid(solution), cost(solution)"
   ]
  },
  {
   "cell_type": "markdown",
   "metadata": {},
   "source": [
    "Solution given by a greedy algorithm\n",
    "the goal is to iteratively select the set that provides the best \"cost-effectiveness\", i.e. the set that covers the most uncovered elements for the least cost, until all elements in the universe are covered."
   ]
  },
  {
   "cell_type": "code",
   "execution_count": 13,
   "metadata": {},
   "outputs": [
    {
     "name": "stdout",
     "output_type": "stream",
     "text": [
      "Number of sets selected: 9\n",
      "Are all elements covered? Yes\n",
      "Selected sets: [6, 1, 0, 7, 8, 3, 2, 9, 5]\n",
      "Cost of the solution: 254.90917039891636\n"
     ]
    }
   ],
   "source": [
    "\n",
    "# SETS is the binary matrix (NUM_SETS, UNIVERSE_SIZE)\n",
    "# COSTS is the cost array for each set\n",
    "\n",
    "\n",
    "def greedy_set_cover(SETS, COSTS):\n",
    "    UNIVERSE_SIZE = SETS.shape[1]\n",
    "    NUM_SETS = SETS.shape[0]\n",
    "    \n",
    "    # Step 1: Initialize\n",
    "    covered_elements = np.zeros(UNIVERSE_SIZE, dtype=bool)  # Track covered elements\n",
    "    soltion = []  # Store selected set indices\n",
    "\n",
    "    # Keep track of how many elements are still uncovered\n",
    "    uncovered_count = np.sum(~covered_elements)\n",
    "    \n",
    "    # Step 2: Iteratively select sets\n",
    "    while uncovered_count > 0:\n",
    "        best_set = None\n",
    "        best_value = -1\n",
    "\n",
    "        # Find the set with the best cost-effectiveness\n",
    "        for i in range(NUM_SETS):\n",
    "            if i in soltion:\n",
    "                continue  # Skip already selected sets\n",
    "            \n",
    "            # Get the elements covered by this set but not already covered\n",
    "            uncovered_by_set = SETS[i] & ~covered_elements\n",
    "            newly_covered = np.sum(uncovered_by_set)\n",
    "            \n",
    "            # Calculate cost-effectiveness: new elements covered per unit cost\n",
    "            if newly_covered > 0:\n",
    "                value = newly_covered / COSTS[i]\n",
    "                if value > best_value:\n",
    "                    best_value = value\n",
    "                    best_set = i\n",
    "\n",
    "        # Step 3: Select the best set\n",
    "        if best_set is None:\n",
    "            break  # No further progress can be made, but this shouldn't happen\n",
    "\n",
    "        soltion.append(best_set)\n",
    "        covered_elements |= SETS[best_set]  # Mark newly covered elements\n",
    "        \n",
    "        # Update uncovered count\n",
    "        uncovered_count = np.sum(~covered_elements)\n",
    "    \n",
    "    return soltion, covered_elements\n",
    "\n",
    "# Run the greedy algorithm\n",
    "selected_sets, covered_elements = greedy_set_cover(SETS, COSTS)\n",
    "\n",
    "# Output results\n",
    "print(f\"Number of sets selected: {len(solution)}\")\n",
    "print(f\"Are all elements covered? {'Yes' if np.all(covered_elements) else 'No'}\")\n",
    "print(f\"Selected sets: {selected_sets}\")\n",
    "print(f\"Cost of the solution: {cost(selected_sets)}\")\n"
   ]
  },
  {
   "cell_type": "markdown",
   "metadata": {},
   "source": [
    "Solving using a brute force algorithm"
   ]
  },
  {
   "cell_type": "code",
   "execution_count": 14,
   "metadata": {},
   "outputs": [
    {
     "name": "stdout",
     "output_type": "stream",
     "text": [
      "Best combination of sets: (0, 1, 2, 3, 5, 6, 7, 8, 9)\n",
      "Minimum cost: 254.9091703989164\n"
     ]
    }
   ],
   "source": [
    "# SETS is the binary matrix (NUM_SETS, UNIVERSE_SIZE)\n",
    "# COSTS is the cost array for each set\n",
    "\n",
    "def combinatorial_set_cover(SETS, COSTS):\n",
    "    UNIVERSE_SIZE = SETS.shape[1]\n",
    "    NUM_SETS = SETS.shape[0]\n",
    "    \n",
    "    best_combination = None\n",
    "    min_cost = float('inf')\n",
    "\n",
    "    # Iterate over all possible set sizes from 1 to NUM_SETS\n",
    "    for r in range(1, NUM_SETS + 1):\n",
    "        # Generate all combinations of r sets\n",
    "        for combo in combinations(range(NUM_SETS), r):\n",
    "            # Step 1: Check if this combination covers the universe\n",
    "            covered_elements = np.zeros(UNIVERSE_SIZE, dtype=bool)\n",
    "            \n",
    "            # Union of all sets in the combination\n",
    "            for i in combo:\n",
    "                covered_elements |= SETS[i]\n",
    "            \n",
    "            # Step 2: If it covers all elements, calculate the cost\n",
    "            if np.all(covered_elements):  # Universe fully covered\n",
    "                total_cost = sum(COSTS[i] for i in combo)\n",
    "                \n",
    "                # Step 3: Keep track of the minimum cost combination\n",
    "                if total_cost < min_cost:\n",
    "                    min_cost = total_cost\n",
    "                    best_combination = combo\n",
    "    \n",
    "    return best_combination, min_cost\n",
    "\n",
    "# Run the combinatorial algorithm\n",
    "best_combination, min_cost = combinatorial_set_cover(SETS, COSTS)\n",
    "\n",
    "# Output results\n",
    "if best_combination is not None:\n",
    "    print(f\"Best combination of sets: {best_combination}\")\n",
    "    print(f\"Minimum cost: {min_cost}\")\n",
    "else:\n",
    "    print(\"No valid set cover found\")\n"
   ]
  },
  {
   "cell_type": "markdown",
   "metadata": {},
   "source": [
    "Solving using a hill-climbing approach"
   ]
  },
  {
   "cell_type": "markdown",
   "metadata": {},
   "source": [
    "Approach 1: adding solutions till the reach of the target"
   ]
  },
  {
   "cell_type": "code",
   "execution_count": 18,
   "metadata": {},
   "outputs": [
    {
     "data": {
      "text/plain": [
       "np.float64(281.89482735238767)"
      ]
     },
     "execution_count": 18,
     "metadata": {},
     "output_type": "execute_result"
    }
   ],
   "source": [
    "# SETS is the binary matrix (NUM_SETS, UNIVERSE_SIZE)\n",
    "# COSTS is the cost array for each set\n",
    "\n",
    "solution=np.full(NUM_SETS, False)\n",
    "\n",
    "while not valid(solution):\n",
    "\n",
    "    #choosing a random set to add to our solution\n",
    "\n",
    "    old_coverage=covered_elements(solution)\n",
    "\n",
    "    rand_index=None\n",
    "\n",
    "    while rand_index is None or solution[rand_index]!=0:\n",
    "        rand_index=np.random.randint(0,NUM_SETS)\n",
    "\n",
    "    solution[rand_index]=True\n",
    "\n",
    "    #we want our solution to expand the total coverage\n",
    "    # Get the elements covered by this set but not already covered\n",
    "    newly_coverage = covered_elements(solution)\n",
    "\n",
    "    if not newly_coverage>old_coverage:\n",
    "        solution[rand_index]=False\n",
    "\n",
    "cost(solution)\n",
    "    "
   ]
  },
  {
   "cell_type": "markdown",
   "metadata": {},
   "source": [
    "Approach 2: Starting with the obvious solution to consider all the sets, exclude one random set at the time which does not invalidate the correctness of the cover set; this is done until we reach a target threshold of considered sets given"
   ]
  },
  {
   "cell_type": "code",
   "execution_count": 30,
   "metadata": {},
   "outputs": [],
   "source": [
    "threshold = 0.4\n",
    "time_limit = 100_000"
   ]
  },
  {
   "cell_type": "code",
   "execution_count": 31,
   "metadata": {},
   "outputs": [
    {
     "name": "stdout",
     "output_type": "stream",
     "text": [
      "254.90917039891636\n",
      "Time limit exceeded\n"
     ]
    }
   ],
   "source": [
    "# A dumb solution of \"all\" sets\n",
    "solution = np.full(NUM_SETS, True)\n",
    "did_not_commit_changes=0\n",
    "\n",
    "while SETS[solution].shape[0]/NUM_SETS>threshold and did_not_commit_changes<time_limit:\n",
    "    rand_index=None\n",
    "\n",
    "    while rand_index is None or solution[rand_index]!=1:\n",
    "        rand_index=np.random.randint(0,NUM_SETS)\n",
    "    \n",
    "    solution[rand_index]=False\n",
    "\n",
    "    if not valid(solution):\n",
    "        did_not_commit_changes+=1\n",
    "        solution[rand_index]=True\n",
    "    else:\n",
    "        did_not_commit_changes=0\n",
    "\n",
    "print(cost(solution))\n",
    "\n",
    "if did_not_commit_changes==time_limit:\n",
    "    print(\"Time limit exceeded\")"
   ]
  },
  {
   "cell_type": "markdown",
   "metadata": {},
   "source": [
    "Approach 3: approach 1 with cost considerations"
   ]
  },
  {
   "cell_type": "code",
   "execution_count": 39,
   "metadata": {},
   "outputs": [],
   "source": [
    "candidates_nr=3\n",
    "tweak_tolerance = 1.25\n",
    "\n",
    "def tweak(sol,tweak):\n",
    "    # Perform logical NOT on the specified indices\n",
    "    sol[tweak] = np.logical_not(sol[tweak])\n",
    "    return sol"
   ]
  },
  {
   "cell_type": "code",
   "execution_count": 53,
   "metadata": {},
   "outputs": [
    {
     "data": {
      "text/plain": [
       "np.float64(254.90917039891636)"
      ]
     },
     "execution_count": 53,
     "metadata": {},
     "output_type": "execute_result"
    }
   ],
   "source": [
    "# SETS is the binary matrix (NUM_SETS, UNIVERSE_SIZE)\n",
    "# COSTS is the cost array for each set\n",
    "\n",
    "solution=np.full(NUM_SETS, False)\n",
    "\n",
    "while not valid(solution):\n",
    "\n",
    "    #choosing a random set to add to our solution\n",
    "\n",
    "    old_coverage=covered_elements(solution)\n",
    "\n",
    "    rand_index=None\n",
    "    candidates=[]\n",
    "\n",
    "    while len(candidates)<candidates_nr:\n",
    "\n",
    "        rand_index=np.random.randint(0,NUM_SETS)\n",
    "\n",
    "        if(rand_index not in candidates):\n",
    "            candidates.append(rand_index)\n",
    "\n",
    "\n",
    "    \n",
    "    new_sol = tweak(solution.copy(),np.array(candidates))\n",
    "\n",
    "    old_Cost= cost(solution)\n",
    "    new_cost = cost(new_sol)\n",
    "    if cost(new_sol)>cost(solution):\n",
    "        if covered_elements(new_sol) > covered_elements(solution) and new_cost/old_Cost > tweak_tolerance:\n",
    "            solution=new_sol\n",
    "\n",
    "    else:\n",
    "        solution=new_sol\n",
    "\n",
    "    \n",
    "cost(solution)"
   ]
  }
 ],
 "metadata": {
  "kernelspec": {
   "display_name": "CI_Codes",
   "language": "python",
   "name": "python3"
  },
  "language_info": {
   "codemirror_mode": {
    "name": "ipython",
    "version": 3
   },
   "file_extension": ".py",
   "mimetype": "text/x-python",
   "name": "python",
   "nbconvert_exporter": "python",
   "pygments_lexer": "ipython3",
   "version": "3.12.4"
  }
 },
 "nbformat": 4,
 "nbformat_minor": 2
}
